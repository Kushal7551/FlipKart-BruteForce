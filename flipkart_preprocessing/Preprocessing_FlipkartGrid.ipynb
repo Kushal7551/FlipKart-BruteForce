{
  "nbformat": 4,
  "nbformat_minor": 0,
  "metadata": {
    "colab": {
      "provenance": []
    },
    "kernelspec": {
      "name": "python3",
      "display_name": "Python 3"
    },
    "language_info": {
      "name": "python"
    }
  },
  "cells": [
    {
      "cell_type": "code",
      "execution_count": 12,
      "metadata": {
        "id": "I6DHChkuRYGM"
      },
      "outputs": [],
      "source": [
        "import cv2\n",
        "import numpy as np"
      ]
    },
    {
      "cell_type": "code",
      "source": [
        "def preprocess_image_for_ocr(image_path, output_path):\n",
        "    image = cv2.imread(image_path)\n",
        "\n",
        "    lab = cv2.cvtColor(image, cv2.COLOR_BGR2LAB)\n",
        "    l, a, b = cv2.split(lab)\n",
        "\n",
        "    clahe = cv2.createCLAHE(clipLimit=3.0, tileGridSize=(8,8))\n",
        "    l = clahe.apply(l)\n",
        "\n",
        "    enhanced_lab = cv2.merge((l, a, b))\n",
        "    enhanced_image = cv2.cvtColor(enhanced_lab, cv2.COLOR_LAB2BGR)\n",
        "\n",
        "    denoised = cv2.fastNlMeansDenoisingColored(enhanced_image, None, 10, 10, 7, 21)\n",
        "\n",
        "    kernel_sharpening = np.array([[-1, -1, -1],\n",
        "                                  [-1,  9, -1],\n",
        "                                  [-1, -1, -1]])\n",
        "    sharpened = cv2.filter2D(denoised, -1, kernel_sharpening)\n",
        "\n",
        "    cv2.imwrite(output_path, sharpened)\n",
        "\n"
      ],
      "metadata": {
        "id": "xwTyWMrQTfLO"
      },
      "execution_count": 13,
      "outputs": []
    },
    {
      "cell_type": "code",
      "source": [
        "preprocess_image_for_ocr('/content/WhatsApp Image 2024-10-20 at 02.08.00.jpeg', '/content/preprocessed_img.jpg')\n"
      ],
      "metadata": {
        "id": "evd-JEduUcsg"
      },
      "execution_count": 14,
      "outputs": []
    }
  ]
}